{
  "nbformat": 4,
  "nbformat_minor": 0,
  "metadata": {
    "colab": {
      "name": "portfolio_diabetis.ipynb",
      "provenance": [],
      "collapsed_sections": [],
      "authorship_tag": "ABX9TyPre3yNsOd8PYhh2i/nu0QH",
      "include_colab_link": true
    },
    "kernelspec": {
      "name": "python3",
      "display_name": "Python 3"
    }
  },
  "cells": [
    {
      "cell_type": "markdown",
      "metadata": {
        "id": "view-in-github",
        "colab_type": "text"
      },
      "source": [
        "<a href=\"https://colab.research.google.com/github/C4st3ll4n/diabetis_portfolio/blob/main/portfolio_diabetis.ipynb\" target=\"_parent\"><img src=\"https://colab.research.google.com/assets/colab-badge.svg\" alt=\"Open In Colab\"/></a>"
      ]
    },
    {
      "cell_type": "markdown",
      "metadata": {
        "id": "lX5pxQoAyH1O",
        "colab_type": "text"
      },
      "source": [
        "# IMPORTAÇÕES NECESSÁRIAS"
      ]
    },
    {
      "cell_type": "code",
      "metadata": {
        "id": "zbFg-3F6yG7q",
        "colab_type": "code",
        "colab": {}
      },
      "source": [
        "import numpy as np\n",
        "import os\n",
        "import pandas as pd\n",
        "from sklearn import datasets\n",
        "from sklearn.tree import export_graphviz\n",
        "from sklearn.model_selection import train_test_split\n",
        "from sklearn.tree import DecisionTreeRegressor\n",
        "from sklearn.metrics import mean_squared_error\n",
        "import matplotlib.pyplot as plt"
      ],
      "execution_count": 2,
      "outputs": []
    },
    {
      "cell_type": "markdown",
      "metadata": {
        "id": "CUsIIWhiyWCa",
        "colab_type": "text"
      },
      "source": [
        "# CARREGANDO O DATASET"
      ]
    },
    {
      "cell_type": "code",
      "metadata": {
        "id": "zkA_lgkIyZgf",
        "colab_type": "code",
        "colab": {}
      },
      "source": [
        "X, y = datasets.load_diabetes(return_X_y=True)"
      ],
      "execution_count": 3,
      "outputs": []
    },
    {
      "cell_type": "markdown",
      "metadata": {
        "id": "VsJ0SHvpyb9v",
        "colab_type": "text"
      },
      "source": [
        "## TRANSFORMANDO DE ARRAY PARA DATAFRAME"
      ]
    },
    {
      "cell_type": "code",
      "metadata": {
        "id": "pfLC7iZ1ya72",
        "colab_type": "code",
        "colab": {}
      },
      "source": [
        "dfX = pd.DataFrame(X)\n",
        "dfy = pd.DataFrame(y)"
      ],
      "execution_count": 4,
      "outputs": []
    },
    {
      "cell_type": "code",
      "metadata": {
        "id": "LdOJNJmtytSu",
        "colab_type": "code",
        "colab": {
          "base_uri": "https://localhost:8080/",
          "height": 306
        },
        "outputId": "44e7a97d-c034-4029-ca03-f64d74e46cc7"
      },
      "source": [
        "dfX.info()"
      ],
      "execution_count": 5,
      "outputs": [
        {
          "output_type": "stream",
          "text": [
            "<class 'pandas.core.frame.DataFrame'>\n",
            "RangeIndex: 442 entries, 0 to 441\n",
            "Data columns (total 10 columns):\n",
            " #   Column  Non-Null Count  Dtype  \n",
            "---  ------  --------------  -----  \n",
            " 0   0       442 non-null    float64\n",
            " 1   1       442 non-null    float64\n",
            " 2   2       442 non-null    float64\n",
            " 3   3       442 non-null    float64\n",
            " 4   4       442 non-null    float64\n",
            " 5   5       442 non-null    float64\n",
            " 6   6       442 non-null    float64\n",
            " 7   7       442 non-null    float64\n",
            " 8   8       442 non-null    float64\n",
            " 9   9       442 non-null    float64\n",
            "dtypes: float64(10)\n",
            "memory usage: 34.7 KB\n"
          ],
          "name": "stdout"
        }
      ]
    },
    {
      "cell_type": "code",
      "metadata": {
        "id": "GAMgBfhYytsJ",
        "colab_type": "code",
        "colab": {
          "base_uri": "https://localhost:8080/",
          "height": 153
        },
        "outputId": "772ef514-9bda-4050-c7d1-da62267bf88f"
      },
      "source": [
        "dfy.info()"
      ],
      "execution_count": 6,
      "outputs": [
        {
          "output_type": "stream",
          "text": [
            "<class 'pandas.core.frame.DataFrame'>\n",
            "RangeIndex: 442 entries, 0 to 441\n",
            "Data columns (total 1 columns):\n",
            " #   Column  Non-Null Count  Dtype  \n",
            "---  ------  --------------  -----  \n",
            " 0   0       442 non-null    float64\n",
            "dtypes: float64(1)\n",
            "memory usage: 3.6 KB\n"
          ],
          "name": "stdout"
        }
      ]
    },
    {
      "cell_type": "markdown",
      "metadata": {
        "id": "85TgAwP0yzLp",
        "colab_type": "text"
      },
      "source": [
        "# ANALISANDO IMPORTÂNCIA DAS FEATURES"
      ]
    },
    {
      "cell_type": "code",
      "metadata": {
        "id": "1Tx5_ZMhy3E9",
        "colab_type": "code",
        "colab": {
          "base_uri": "https://localhost:8080/",
          "height": 180
        },
        "outputId": "cde3be2c-2dd7-4b66-f014-877899276711"
      },
      "source": [
        "DTR.feature_importances_\n",
        "#Dropar coluna 1,4,5,7,9"
      ],
      "execution_count": 8,
      "outputs": [
        {
          "output_type": "error",
          "ename": "NameError",
          "evalue": "ignored",
          "traceback": [
            "\u001b[0;31m---------------------------------------------------------------------------\u001b[0m",
            "\u001b[0;31mNameError\u001b[0m                                 Traceback (most recent call last)",
            "\u001b[0;32m<ipython-input-8-d3f7f7cb4ca0>\u001b[0m in \u001b[0;36m<module>\u001b[0;34m()\u001b[0m\n\u001b[0;32m----> 1\u001b[0;31m \u001b[0mDTR\u001b[0m\u001b[0;34m.\u001b[0m\u001b[0mfeature_importances_\u001b[0m\u001b[0;34m\u001b[0m\u001b[0;34m\u001b[0m\u001b[0m\n\u001b[0m\u001b[1;32m      2\u001b[0m \u001b[0;31m#Dropar coluna 1,4,5,7,9\u001b[0m\u001b[0;34m\u001b[0m\u001b[0;34m\u001b[0m\u001b[0;34m\u001b[0m\u001b[0m\n",
            "\u001b[0;31mNameError\u001b[0m: name 'DTR' is not defined"
          ]
        }
      ]
    },
    {
      "cell_type": "markdown",
      "metadata": {
        "id": "XK7GsxxuZlvL",
        "colab_type": "text"
      },
      "source": [
        "#PLOTAR RESULTADO"
      ]
    },
    {
      "cell_type": "code",
      "metadata": {
        "id": "XdfKcrjQZoHo",
        "colab_type": "code",
        "colab": {}
      },
      "source": [
        "def plot(y_true, y_pçred):\n",
        "    x = np.arange(y_test.shape[0])\n",
        "    plt.title(\"Predict\")\n",
        "    plt.scatter(x, y_true, c='red', label='y_true')\n",
        "    plt.scatter(x, y_pred, c='blue',marker='x', label='y_pred')\n",
        "    plt.legend()\n",
        "    plt.show()\n"
      ],
      "execution_count": 50,
      "outputs": []
    },
    {
      "cell_type": "markdown",
      "metadata": {
        "id": "SxGq_jpNx5nm",
        "colab_type": "text"
      },
      "source": [
        "# TENTATIVA NÚMERO 1\n",
        "\n",
        "Tentei gerar a árvore sem dropar as features com pouca importância"
      ]
    },
    {
      "cell_type": "code",
      "metadata": {
        "id": "s6l4quuz8qlZ",
        "colab_type": "code",
        "colab": {}
      },
      "source": [
        "X_train, X_test, y_train, y_test = train_test_split(X, y, test_size=0.1)"
      ],
      "execution_count": 27,
      "outputs": []
    },
    {
      "cell_type": "code",
      "metadata": {
        "id": "OST-hbSC8wse",
        "colab_type": "code",
        "colab": {}
      },
      "source": [
        "DTR = DecisionTreeRegressor(max_depth=3, random_state=0)"
      ],
      "execution_count": 28,
      "outputs": []
    },
    {
      "cell_type": "code",
      "metadata": {
        "id": "-dOGqt6x89IA",
        "colab_type": "code",
        "colab": {
          "base_uri": "https://localhost:8080/",
          "height": 119
        },
        "outputId": "332fb984-b9e7-44f7-b8b9-be61b74461af"
      },
      "source": [
        "DTR.fit(X_train, y_train)"
      ],
      "execution_count": 29,
      "outputs": [
        {
          "output_type": "execute_result",
          "data": {
            "text/plain": [
              "DecisionTreeRegressor(ccp_alpha=0.0, criterion='mse', max_depth=3,\n",
              "                      max_features=None, max_leaf_nodes=None,\n",
              "                      min_impurity_decrease=0.0, min_impurity_split=None,\n",
              "                      min_samples_leaf=1, min_samples_split=2,\n",
              "                      min_weight_fraction_leaf=0.0, presort='deprecated',\n",
              "                      random_state=0, splitter='best')"
            ]
          },
          "metadata": {
            "tags": []
          },
          "execution_count": 29
        }
      ]
    },
    {
      "cell_type": "code",
      "metadata": {
        "id": "5Fhm9coM8_Zn",
        "colab_type": "code",
        "colab": {}
      },
      "source": [
        "y_pred = DTR.predict(X_test)"
      ],
      "execution_count": 30,
      "outputs": []
    },
    {
      "cell_type": "code",
      "metadata": {
        "id": "OwMLPV-luLnB",
        "colab_type": "code",
        "colab": {
          "base_uri": "https://localhost:8080/",
          "height": 34
        },
        "outputId": "1414c059-09e8-4e63-b42a-3e96af642d45"
      },
      "source": [
        "print(mean_squared_error(y_test, y_pred))"
      ],
      "execution_count": 31,
      "outputs": [
        {
          "output_type": "stream",
          "text": [
            "3116.9963949158414\n"
          ],
          "name": "stdout"
        }
      ]
    },
    {
      "cell_type": "code",
      "metadata": {
        "id": "eUDOnsDPtUNs",
        "colab_type": "code",
        "colab": {}
      },
      "source": [
        "#export_graphviz(DTR, out_file=\"tree.dot\", class_names=['y'], rounded=True, filled=True)"
      ],
      "execution_count": 32,
      "outputs": []
    },
    {
      "cell_type": "code",
      "metadata": {
        "id": "O9-RK6d6t26U",
        "colab_type": "code",
        "colab": {}
      },
      "source": [
        "#os.system('dot -Tpng tree.dot -o regr_tree.png')"
      ],
      "execution_count": 33,
      "outputs": []
    },
    {
      "cell_type": "code",
      "metadata": {
        "id": "4vVJpbCqt8KL",
        "colab_type": "code",
        "colab": {
          "base_uri": "https://localhost:8080/",
          "height": 281
        },
        "outputId": "2435a157-ebb6-482a-a749-06d81ae04400"
      },
      "source": [
        "x = np.arange(y_test.shape[0])\n",
        "plt.title(\"Predict\")\n",
        "plt.scatter(x, y_test, c='red', label='y_test')\n",
        "plt.scatter(x, y_pred, c='blue',marker='x', label='y_pred')\n",
        "plt.legend()\n",
        "plt.show()"
      ],
      "execution_count": 34,
      "outputs": [
        {
          "output_type": "display_data",
          "data": {
            "image/png": "[encoded data removed]",
            "text/plain": [
              "<Figure size 432x288 with 1 Axes>"
            ]
          },
          "metadata": {
            "tags": [],
            "needs_background": "light"
          }
        }
      ]
    },
    {
      "cell_type": "markdown",
      "metadata": {
        "id": "rrf7MVJpx_4I",
        "colab_type": "text"
      },
      "source": [
        "\n",
        "# TENTATIVA NÚMERO 2\n",
        "1º teste => mse: 4031.250980646489\n",
        "\n",
        "No segundo teste dropando mais colunas, não apresentou melhoras\n",
        " \n",
        "2º teste => mse: 4185.718910935043"
      ]
    },
    {
      "cell_type": "code",
      "metadata": {
        "id": "cDvTDrxS0Kc1",
        "colab_type": "code",
        "colab": {
          "base_uri": "https://localhost:8080/",
          "height": 51
        },
        "outputId": "5c64e0f1-35d3-49ff-ad42-1b89c3628ff8"
      },
      "source": [
        "DTR.feature_importances_"
      ],
      "execution_count": 35,
      "outputs": [
        {
          "output_type": "execute_result",
          "data": {
            "text/plain": [
              "array([0.02258669, 0.        , 0.29847606, 0.05608845, 0.        ,\n",
              "       0.        , 0.        , 0.        , 0.6228488 , 0.        ])"
            ]
          },
          "metadata": {
            "tags": []
          },
          "execution_count": 35
        }
      ]
    },
    {
      "cell_type": "code",
      "metadata": {
        "id": "o6C1Pz2azhUE",
        "colab_type": "code",
        "colab": {}
      },
      "source": [
        "#dx = dfX.drop([1,4,5,7,9],axis=1)\n",
        "dx = dfX.drop([0,1,3,6,4,5,7,9],axis=1) "
      ],
      "execution_count": 36,
      "outputs": []
    },
    {
      "cell_type": "code",
      "metadata": {
        "id": "2guG-9rezxpU",
        "colab_type": "code",
        "colab": {
          "base_uri": "https://localhost:8080/",
          "height": 204
        },
        "outputId": "9334f2c0-7b57-40fc-93f7-a61942d6e72c"
      },
      "source": [
        "dx.head()"
      ],
      "execution_count": 37,
      "outputs": [
        {
          "output_type": "execute_result",
          "data": {
            "text/html": [
              "<div>\n",
              "<style scoped>\n",
              "    .dataframe tbody tr th:only-of-type {\n",
              "        vertical-align: middle;\n",
              "    }\n",
              "\n",
              "    .dataframe tbody tr th {\n",
              "        vertical-align: top;\n",
              "    }\n",
              "\n",
              "    .dataframe thead th {\n",
              "        text-align: right;\n",
              "    }\n",
              "</style>\n",
              "<table border=\"1\" class=\"dataframe\">\n",
              "  <thead>\n",
              "    <tr style=\"text-align: right;\">\n",
              "      <th></th>\n",
              "      <th>2</th>\n",
              "      <th>8</th>\n",
              "    </tr>\n",
              "  </thead>\n",
              "  <tbody>\n",
              "    <tr>\n",
              "      <th>0</th>\n",
              "      <td>0.061696</td>\n",
              "      <td>0.019908</td>\n",
              "    </tr>\n",
              "    <tr>\n",
              "      <th>1</th>\n",
              "      <td>-0.051474</td>\n",
              "      <td>-0.068330</td>\n",
              "    </tr>\n",
              "    <tr>\n",
              "      <th>2</th>\n",
              "      <td>0.044451</td>\n",
              "      <td>0.002864</td>\n",
              "    </tr>\n",
              "    <tr>\n",
              "      <th>3</th>\n",
              "      <td>-0.011595</td>\n",
              "      <td>0.022692</td>\n",
              "    </tr>\n",
              "    <tr>\n",
              "      <th>4</th>\n",
              "      <td>-0.036385</td>\n",
              "      <td>-0.031991</td>\n",
              "    </tr>\n",
              "  </tbody>\n",
              "</table>\n",
              "</div>"
            ],
            "text/plain": [
              "          2         8\n",
              "0  0.061696  0.019908\n",
              "1 -0.051474 -0.068330\n",
              "2  0.044451  0.002864\n",
              "3 -0.011595  0.022692\n",
              "4 -0.036385 -0.031991"
            ]
          },
          "metadata": {
            "tags": []
          },
          "execution_count": 37
        }
      ]
    },
    {
      "cell_type": "code",
      "metadata": {
        "id": "P2niVXh1zzeV",
        "colab_type": "code",
        "colab": {}
      },
      "source": [
        ""
      ],
      "execution_count": 37,
      "outputs": []
    },
    {
      "cell_type": "code",
      "metadata": {
        "id": "THa9dzodyDzi",
        "colab_type": "code",
        "colab": {}
      },
      "source": [
        "X_train, X_test, y_train, y_test = train_test_split(dx, y, test_size=0.1)"
      ],
      "execution_count": 38,
      "outputs": []
    },
    {
      "cell_type": "code",
      "metadata": {
        "id": "Ya1ZYf15zfGb",
        "colab_type": "code",
        "colab": {}
      },
      "source": [
        "DTR = DecisionTreeRegressor(max_depth=5, random_state=0)"
      ],
      "execution_count": 39,
      "outputs": []
    },
    {
      "cell_type": "code",
      "metadata": {
        "id": "TAnYb_qxzgay",
        "colab_type": "code",
        "colab": {
          "base_uri": "https://localhost:8080/",
          "height": 119
        },
        "outputId": "ab039ed8-9656-4e3e-a2a2-813814de13f2"
      },
      "source": [
        "DTR.fit(X_train, y_train)"
      ],
      "execution_count": 40,
      "outputs": [
        {
          "output_type": "execute_result",
          "data": {
            "text/plain": [
              "DecisionTreeRegressor(ccp_alpha=0.0, criterion='mse', max_depth=5,\n",
              "                      max_features=None, max_leaf_nodes=None,\n",
              "                      min_impurity_decrease=0.0, min_impurity_split=None,\n",
              "                      min_samples_leaf=1, min_samples_split=2,\n",
              "                      min_weight_fraction_leaf=0.0, presort='deprecated',\n",
              "                      random_state=0, splitter='best')"
            ]
          },
          "metadata": {
            "tags": []
          },
          "execution_count": 40
        }
      ]
    },
    {
      "cell_type": "code",
      "metadata": {
        "id": "PXIlPgmPzi3O",
        "colab_type": "code",
        "colab": {}
      },
      "source": [
        "y_pred = DTR.predict(X_test)"
      ],
      "execution_count": 41,
      "outputs": []
    },
    {
      "cell_type": "code",
      "metadata": {
        "id": "VtN_QZ9ez5k6",
        "colab_type": "code",
        "colab": {
          "base_uri": "https://localhost:8080/",
          "height": 34
        },
        "outputId": "875927ba-7e30-4298-addc-bee1e5a5937a"
      },
      "source": [
        "print(mean_squared_error(y_test, y_pred))"
      ],
      "execution_count": 42,
      "outputs": [
        {
          "output_type": "stream",
          "text": [
            "3599.0783752904636\n"
          ],
          "name": "stdout"
        }
      ]
    },
    {
      "cell_type": "code",
      "metadata": {
        "id": "Z6HKiH8Rz7n0",
        "colab_type": "code",
        "colab": {
          "base_uri": "https://localhost:8080/",
          "height": 281
        },
        "outputId": "8fce8556-cc93-4182-e9ba-cc6b9ca13637"
      },
      "source": [
        "x = np.arange(y_test.shape[0])\n",
        "plt.title(\"Predict\")\n",
        "plt.scatter(x, y_test, c='red', label='y_test')\n",
        "plt.scatter(x, y_pred, c='blue',marker='x', label='y_pred')\n",
        "plt.legend()\n",
        "plt.show()"
      ],
      "execution_count": 43,
      "outputs": [
        {
          "output_type": "display_data",
          "data": {
            "image/png": "[encoded data removed]",
            "text/plain": [
              "<Figure size 432x288 with 1 Axes>"
            ]
          },
          "metadata": {
            "tags": [],
            "needs_background": "light"
          }
        }
      ]
    },
    {
      "cell_type": "code",
      "metadata": {
        "id": "tOLcqD0Uz9xk",
        "colab_type": "code",
        "colab": {}
      },
      "source": [
        ""
      ],
      "execution_count": 43,
      "outputs": []
    },
    {
      "cell_type": "markdown",
      "metadata": {
        "id": "1gZLubx5N953",
        "colab_type": "text"
      },
      "source": [
        "# TENTATIVA 3\n",
        "\n",
        "Analisar correçlação entre váriaveis e criar um novo modelo\n"
      ]
    },
    {
      "cell_type": "code",
      "metadata": {
        "id": "5NIDnJnCPs8W",
        "colab_type": "code",
        "colab": {}
      },
      "source": [
        "import seaborn as sns"
      ],
      "execution_count": 44,
      "outputs": []
    },
    {
      "cell_type": "code",
      "metadata": {
        "id": "z6VMJ42MPuh9",
        "colab_type": "code",
        "colab": {
          "base_uri": "https://localhost:8080/",
          "height": 286
        },
        "outputId": "5af4ab73-0895-4a2d-e761-6eaf7ba7f897"
      },
      "source": [
        "#na primeira execução a váriavel 6 apresentou fraca correlação, removi \n",
        "#na segunda execução as váriaveis 0,1,2,3 apresentaram fraca correlação, removi\n",
        "df = dfX.drop([0,1,2,3,6],axis=1)\n",
        "\n",
        "corr = df.corr()\n",
        "\n",
        "sns.heatmap(corr, \n",
        "         xticklabels=corr.columns, \n",
        "         yticklabels=corr.columns)"
      ],
      "execution_count": 80,
      "outputs": [
        {
          "output_type": "execute_result",
          "data": {
            "text/plain": [
              "<matplotlib.axes._subplots.AxesSubplot at 0x7f4896709f60>"
            ]
          },
          "metadata": {
            "tags": []
          },
          "execution_count": 80
        },
        {
          "output_type": "display_data",
          "data": {
            "image/png": "[encoded data removed]",
            "text/plain": [
              "<Figure size 432x288 with 2 Axes>"
            ]
          },
          "metadata": {
            "tags": [],
            "needs_background": "light"
          }
        }
      ]
    },
    {
      "cell_type": "markdown",
      "metadata": {
        "id": "mRtkRlS2apRI",
        "colab_type": "text"
      },
      "source": [
        "Gerando um novo modelo com padronização"
      ]
    },
    {
      "cell_type": "code",
      "metadata": {
        "id": "II1DQ1X3at51",
        "colab_type": "code",
        "colab": {}
      },
      "source": [
        "from sklearn.preprocessing import StandardScaler"
      ],
      "execution_count": 64,
      "outputs": []
    },
    {
      "cell_type": "code",
      "metadata": {
        "id": "yG3eutDca0ea",
        "colab_type": "code",
        "colab": {
          "base_uri": "https://localhost:8080/",
          "height": 136
        },
        "outputId": "0cf00593-5448-4b4e-bb1c-adefeb47c07d"
      },
      "source": [
        "ss = StandardScaler()\n",
        "ss.fit_transform(df)\n",
        "#dfy = StandardScaler(y)"
      ],
      "execution_count": 81,
      "outputs": [
        {
          "output_type": "execute_result",
          "data": {
            "text/plain": [
              "array([[-0.92974581, -0.73206462, -0.05449919,  0.41855058, -0.37098854],\n",
              "       [-0.17762425, -0.40288615, -0.83030083, -1.43655059, -1.93847913],\n",
              "       [-0.95867356, -0.71889748, -0.05449919,  0.06020733, -0.54515416],\n",
              "       ...,\n",
              "       [-0.78510705, -0.29096547, -0.23293356, -0.98558469,  0.32567395],\n",
              "       [ 0.34307529,  0.32130649,  0.55838411,  0.93615545, -0.54515416],\n",
              "       [ 1.76053515,  0.58464926, -0.83030083, -0.08871747,  0.06442552]])"
            ]
          },
          "metadata": {
            "tags": []
          },
          "execution_count": 81
        }
      ]
    },
    {
      "cell_type": "code",
      "metadata": {
        "id": "eBo1IzAwQqDu",
        "colab_type": "code",
        "colab": {
          "base_uri": "https://localhost:8080/",
          "height": 34
        },
        "outputId": "a654bbb5-af7d-425d-f748-58d4d90dbeee"
      },
      "source": [
        "X_train, X_test, y_train, y_test = train_test_split(df, y, test_size=0.1)\n",
        "DTR = DecisionTreeRegressor(max_depth=5, random_state=0, min_samples_split=150)\n",
        "\n",
        "DTR.fit(X_train, y_train)\n",
        "y_pred = DTR.predict(X_test)\n",
        "print(mean_squared_error(y_test, y_pred))"
      ],
      "execution_count": 82,
      "outputs": [
        {
          "output_type": "stream",
          "text": [
            "4789.324021953044\n"
          ],
          "name": "stdout"
        }
      ]
    },
    {
      "cell_type": "code",
      "metadata": {
        "id": "ln0iEjCXZ8W9",
        "colab_type": "code",
        "colab": {
          "base_uri": "https://localhost:8080/",
          "height": 281
        },
        "outputId": "ad7adaa8-78b5-4533-89c3-10f25ae65e5b"
      },
      "source": [
        "plot(y_test, y_pred)"
      ],
      "execution_count": 83,
      "outputs": [
        {
          "output_type": "display_data",
          "data": {
            "image/png": "[encoded data removed]",
            "text/plain": [
              "<Figure size 432x288 with 1 Axes>"
            ]
          },
          "metadata": {
            "tags": [],
            "needs_background": "light"
          }
        }
      ]
    },
    {
      "cell_type": "code",
      "metadata": {
        "id": "PRsFXqnBaGPK",
        "colab_type": "code",
        "colab": {}
      },
      "source": [
        ""
      ],
      "execution_count": null,
      "outputs": []
    }
  ]
}