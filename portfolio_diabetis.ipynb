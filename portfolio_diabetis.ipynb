{
  "nbformat": 4,
  "nbformat_minor": 0,
  "metadata": {
    "colab": {
      "name": "portfolio_diabetis.ipynb",
      "provenance": [],
      "collapsed_sections": [],
      "authorship_tag": "ABX9TyPqJshNK9SlAhMHdkdBl7Do",
      "include_colab_link": true
    },
    "kernelspec": {
      "name": "python3",
      "display_name": "Python 3"
    }
  },
  "cells": [
    {
      "cell_type": "markdown",
      "metadata": {
        "id": "view-in-github",
        "colab_type": "text"
      },
      "source": [
        "<a href=\"https://colab.research.google.com/github/C4st3ll4n/diabetis_portfolio/blob/main/portfolio_diabetis.ipynb\" target=\"_parent\"><img src=\"https://colab.research.google.com/assets/colab-badge.svg\" alt=\"Open In Colab\"/></a>"
      ]
    },
    {
      "cell_type": "markdown",
      "metadata": {
        "id": "lX5pxQoAyH1O",
        "colab_type": "text"
      },
      "source": [
        "# IMPORTAÇÕES NECESSÁRIAS"
      ]
    },
    {
      "cell_type": "code",
      "metadata": {
        "id": "zbFg-3F6yG7q",
        "colab_type": "code",
        "colab": {}
      },
      "source": [
        "import numpy as np\n",
        "import os\n",
        "import pandas as pd\n",
        "from sklearn import datasets\n",
        "from sklearn.tree import export_graphviz\n",
        "from sklearn.model_selection import train_test_split\n",
        "from sklearn.tree import DecisionTreeRegressor\n",
        "from sklearn.metrics import mean_squared_error\n",
        "import matplotlib.pyplot as plt"
      ],
      "execution_count": 2,
      "outputs": []
    },
    {
      "cell_type": "markdown",
      "metadata": {
        "id": "CUsIIWhiyWCa",
        "colab_type": "text"
      },
      "source": [
        "# CARREGANDO O DATASET"
      ]
    },
    {
      "cell_type": "code",
      "metadata": {
        "id": "zkA_lgkIyZgf",
        "colab_type": "code",
        "colab": {}
      },
      "source": [
        "X, y = datasets.load_diabetes(return_X_y=True)"
      ],
      "execution_count": 3,
      "outputs": []
    },
    {
      "cell_type": "markdown",
      "metadata": {
        "id": "VsJ0SHvpyb9v",
        "colab_type": "text"
      },
      "source": [
        "## TRANSFORMANDO DE ARRAY PARA DATAFRAME"
      ]
    },
    {
      "cell_type": "code",
      "metadata": {
        "id": "pfLC7iZ1ya72",
        "colab_type": "code",
        "colab": {}
      },
      "source": [
        "dfX = pd.DataFrame(X)\n",
        "dfy = pd.DataFrame(y)"
      ],
      "execution_count": 4,
      "outputs": []
    },
    {
      "cell_type": "code",
      "metadata": {
        "id": "LdOJNJmtytSu",
        "colab_type": "code",
        "colab": {
          "base_uri": "https://localhost:8080/",
          "height": 306
        },
        "outputId": "44e7a97d-c034-4029-ca03-f64d74e46cc7"
      },
      "source": [
        "dfX.info()"
      ],
      "execution_count": 5,
      "outputs": [
        {
          "output_type": "stream",
          "text": [
            "<class 'pandas.core.frame.DataFrame'>\n",
            "RangeIndex: 442 entries, 0 to 441\n",
            "Data columns (total 10 columns):\n",
            " #   Column  Non-Null Count  Dtype  \n",
            "---  ------  --------------  -----  \n",
            " 0   0       442 non-null    float64\n",
            " 1   1       442 non-null    float64\n",
            " 2   2       442 non-null    float64\n",
            " 3   3       442 non-null    float64\n",
            " 4   4       442 non-null    float64\n",
            " 5   5       442 non-null    float64\n",
            " 6   6       442 non-null    float64\n",
            " 7   7       442 non-null    float64\n",
            " 8   8       442 non-null    float64\n",
            " 9   9       442 non-null    float64\n",
            "dtypes: float64(10)\n",
            "memory usage: 34.7 KB\n"
          ],
          "name": "stdout"
        }
      ]
    },
    {
      "cell_type": "code",
      "metadata": {
        "id": "GAMgBfhYytsJ",
        "colab_type": "code",
        "colab": {
          "base_uri": "https://localhost:8080/",
          "height": 153
        },
        "outputId": "772ef514-9bda-4050-c7d1-da62267bf88f"
      },
      "source": [
        "dfy.info()"
      ],
      "execution_count": 6,
      "outputs": [
        {
          "output_type": "stream",
          "text": [
            "<class 'pandas.core.frame.DataFrame'>\n",
            "RangeIndex: 442 entries, 0 to 441\n",
            "Data columns (total 1 columns):\n",
            " #   Column  Non-Null Count  Dtype  \n",
            "---  ------  --------------  -----  \n",
            " 0   0       442 non-null    float64\n",
            "dtypes: float64(1)\n",
            "memory usage: 3.6 KB\n"
          ],
          "name": "stdout"
        }
      ]
    },
    {
      "cell_type": "markdown",
      "metadata": {
        "id": "85TgAwP0yzLp",
        "colab_type": "text"
      },
      "source": [
        "# ANALISANDO IMPORTÂNCIA DAS FEATURES"
      ]
    },
    {
      "cell_type": "code",
      "metadata": {
        "id": "1Tx5_ZMhy3E9",
        "colab_type": "code",
        "colab": {
          "base_uri": "https://localhost:8080/",
          "height": 180
        },
        "outputId": "cde3be2c-2dd7-4b66-f014-877899276711"
      },
      "source": [
        "DTR.feature_importances_\n",
        "#Dropar coluna 1,4,5,7,9"
      ],
      "execution_count": 8,
      "outputs": [
        {
          "output_type": "error",
          "ename": "NameError",
          "evalue": "ignored",
          "traceback": [
            "\u001b[0;31m---------------------------------------------------------------------------\u001b[0m",
            "\u001b[0;31mNameError\u001b[0m                                 Traceback (most recent call last)",
            "\u001b[0;32m<ipython-input-8-d3f7f7cb4ca0>\u001b[0m in \u001b[0;36m<module>\u001b[0;34m()\u001b[0m\n\u001b[0;32m----> 1\u001b[0;31m \u001b[0mDTR\u001b[0m\u001b[0;34m.\u001b[0m\u001b[0mfeature_importances_\u001b[0m\u001b[0;34m\u001b[0m\u001b[0;34m\u001b[0m\u001b[0m\n\u001b[0m\u001b[1;32m      2\u001b[0m \u001b[0;31m#Dropar coluna 1,4,5,7,9\u001b[0m\u001b[0;34m\u001b[0m\u001b[0;34m\u001b[0m\u001b[0;34m\u001b[0m\u001b[0m\n",
            "\u001b[0;31mNameError\u001b[0m: name 'DTR' is not defined"
          ]
        }
      ]
    },
    {
      "cell_type": "markdown",
      "metadata": {
        "id": "XK7GsxxuZlvL",
        "colab_type": "text"
      },
      "source": [
        "#PLOTAR RESULTADO"
      ]
    },
    {
      "cell_type": "code",
      "metadata": {
        "id": "XdfKcrjQZoHo",
        "colab_type": "code",
        "colab": {}
      },
      "source": [
        "def plot(y_true, y_pçred):\n",
        "    x = np.arange(y_test.shape[0])\n",
        "    plt.title(\"Predict\")\n",
        "    plt.scatter(x, y_true, c='red', label='y_true')\n",
        "    plt.scatter(x, y_pred, c='blue',marker='x', label='y_pred')\n",
        "    plt.legend()\n",
        "    plt.show()\n"
      ],
      "execution_count": 50,
      "outputs": []
    },
    {
      "cell_type": "markdown",
      "metadata": {
        "id": "SxGq_jpNx5nm",
        "colab_type": "text"
      },
      "source": [
        "# TENTATIVA NÚMERO 1\n",
        "\n",
        "Tentei gerar a árvore sem dropar as features com pouca importância"
      ]
    },
    {
      "cell_type": "code",
      "metadata": {
        "id": "s6l4quuz8qlZ",
        "colab_type": "code",
        "colab": {}
      },
      "source": [
        "X_train, X_test, y_train, y_test = train_test_split(X, y, test_size=0.1)"
      ],
      "execution_count": 27,
      "outputs": []
    },
    {
      "cell_type": "code",
      "metadata": {
        "id": "OST-hbSC8wse",
        "colab_type": "code",
        "colab": {}
      },
      "source": [
        "DTR = DecisionTreeRegressor(max_depth=3, random_state=0)"
      ],
      "execution_count": 28,
      "outputs": []
    },
    {
      "cell_type": "code",
      "metadata": {
        "id": "-dOGqt6x89IA",
        "colab_type": "code",
        "colab": {
          "base_uri": "https://localhost:8080/",
          "height": 119
        },
        "outputId": "332fb984-b9e7-44f7-b8b9-be61b74461af"
      },
      "source": [
        "DTR.fit(X_train, y_train)"
      ],
      "execution_count": 29,
      "outputs": [
        {
          "output_type": "execute_result",
          "data": {
            "text/plain": [
              "DecisionTreeRegressor(ccp_alpha=0.0, criterion='mse', max_depth=3,\n",
              "                      max_features=None, max_leaf_nodes=None,\n",
              "                      min_impurity_decrease=0.0, min_impurity_split=None,\n",
              "                      min_samples_leaf=1, min_samples_split=2,\n",
              "                      min_weight_fraction_leaf=0.0, presort='deprecated',\n",
              "                      random_state=0, splitter='best')"
            ]
          },
          "metadata": {
            "tags": []
          },
          "execution_count": 29
        }
      ]
    },
    {
      "cell_type": "code",
      "metadata": {
        "id": "5Fhm9coM8_Zn",
        "colab_type": "code",
        "colab": {}
      },
      "source": [
        "y_pred = DTR.predict(X_test)"
      ],
      "execution_count": 30,
      "outputs": []
    },
    {
      "cell_type": "code",
      "metadata": {
        "id": "OwMLPV-luLnB",
        "colab_type": "code",
        "colab": {
          "base_uri": "https://localhost:8080/",
          "height": 34
        },
        "outputId": "1414c059-09e8-4e63-b42a-3e96af642d45"
      },
      "source": [
        "print(mean_squared_error(y_test, y_pred))"
      ],
      "execution_count": 31,
      "outputs": [
        {
          "output_type": "stream",
          "text": [
            "3116.9963949158414\n"
          ],
          "name": "stdout"
        }
      ]
    },
    {
      "cell_type": "code",
      "metadata": {
        "id": "eUDOnsDPtUNs",
        "colab_type": "code",
        "colab": {}
      },
      "source": [
        "#export_graphviz(DTR, out_file=\"tree.dot\", class_names=['y'], rounded=True, filled=True)"
      ],
      "execution_count": 32,
      "outputs": []
    },
    {
      "cell_type": "code",
      "metadata": {
        "id": "O9-RK6d6t26U",
        "colab_type": "code",
        "colab": {}
      },
      "source": [
        "#os.system('dot -Tpng tree.dot -o regr_tree.png')"
      ],
      "execution_count": 33,
      "outputs": []
    },
    {
      "cell_type": "code",
      "metadata": {
        "id": "4vVJpbCqt8KL",
        "colab_type": "code",
        "colab": {
          "base_uri": "https://localhost:8080/",
          "height": 281
        },
        "outputId": "2435a157-ebb6-482a-a749-06d81ae04400"
      },
      "source": [
        "x = np.arange(y_test.shape[0])\n",
        "plt.title(\"Predict\")\n",
        "plt.scatter(x, y_test, c='red', label='y_test')\n",
        "plt.scatter(x, y_pred, c='blue',marker='x', label='y_pred')\n",
        "plt.legend()\n",
        "plt.show()"
      ],
      "execution_count": 34,
      "outputs": [
        {
          "output_type": "display_data",
          "data": {
            "image/png": "[encoded data removed]",
            "text/plain": [
              "<Figure size 432x288 with 1 Axes>"
            ]
          },
          "metadata": {
            "tags": [],
            "needs_background": "light"
          }
        }
      ]
    },
    {
      "cell_type": "markdown",
      "metadata": {
        "id": "rrf7MVJpx_4I",
        "colab_type": "text"
      },
      "source": [
        "\n",
        "# TENTATIVA NÚMERO 2\n",
        "1º teste => mse: 4031.250980646489\n",
        "\n",
        "No segundo teste dropando mais colunas, não apresentou melhoras\n",
        " \n",
        "2º teste => mse: 4185.718910935043"
      ]
    },
    {
      "cell_type": "code",
      "metadata": {
        "id": "cDvTDrxS0Kc1",
        "colab_type": "code",
        "colab": {
          "base_uri": "https://localhost:8080/",
          "height": 51
        },
        "outputId": "5c64e0f1-35d3-49ff-ad42-1b89c3628ff8"
      },
      "source": [
        "DTR.feature_importances_"
      ],
      "execution_count": 35,
      "outputs": [
        {
          "output_type": "execute_result",
          "data": {
            "text/plain": [
              "array([0.02258669, 0.        , 0.29847606, 0.05608845, 0.        ,\n",
              "       0.        , 0.        , 0.        , 0.6228488 , 0.        ])"
            ]
          },
          "metadata": {
            "tags": []
          },
          "execution_count": 35
        }
      ]
    },
    {
      "cell_type": "code",
      "metadata": {
        "id": "o6C1Pz2azhUE",
        "colab_type": "code",
        "colab": {}
      },
      "source": [
        "#dx = dfX.drop([1,4,5,7,9],axis=1)\n",
        "dx = dfX.drop([0,1,3,6,4,5,7,9],axis=1) "
      ],
      "execution_count": 36,
      "outputs": []
    },
    {
      "cell_type": "code",
      "metadata": {
        "id": "2guG-9rezxpU",
        "colab_type": "code",
        "colab": {
          "base_uri": "https://localhost:8080/",
          "height": 204
        },
        "outputId": "9334f2c0-7b57-40fc-93f7-a61942d6e72c"
      },
      "source": [
        "dx.head()"
      ],
      "execution_count": 37,
      "outputs": [
        {
          "output_type": "execute_result",
          "data": {
            "text/html": [
              "<div>\n",
              "<style scoped>\n",
              "    .dataframe tbody tr th:only-of-type {\n",
              "        vertical-align: middle;\n",
              "    }\n",
              "\n",
              "    .dataframe tbody tr th {\n",
              "        vertical-align: top;\n",
              "    }\n",
              "\n",
              "    .dataframe thead th {\n",
              "        text-align: right;\n",
              "    }\n",
              "</style>\n",
              "<table border=\"1\" class=\"dataframe\">\n",
              "  <thead>\n",
              "    <tr style=\"text-align: right;\">\n",
              "      <th></th>\n",
              "      <th>2</th>\n",
              "      <th>8</th>\n",
              "    </tr>\n",
              "  </thead>\n",
              "  <tbody>\n",
              "    <tr>\n",
              "      <th>0</th>\n",
              "      <td>0.061696</td>\n",
              "      <td>0.019908</td>\n",
              "    </tr>\n",
              "    <tr>\n",
              "      <th>1</th>\n",
              "      <td>-0.051474</td>\n",
              "      <td>-0.068330</td>\n",
              "    </tr>\n",
              "    <tr>\n",
              "      <th>2</th>\n",
              "      <td>0.044451</td>\n",
              "      <td>0.002864</td>\n",
              "    </tr>\n",
              "    <tr>\n",
              "      <th>3</th>\n",
              "      <td>-0.011595</td>\n",
              "      <td>0.022692</td>\n",
              "    </tr>\n",
              "    <tr>\n",
              "      <th>4</th>\n",
              "      <td>-0.036385</td>\n",
              "      <td>-0.031991</td>\n",
              "    </tr>\n",
              "  </tbody>\n",
              "</table>\n",
              "</div>"
            ],
            "text/plain": [
              "          2         8\n",
              "0  0.061696  0.019908\n",
              "1 -0.051474 -0.068330\n",
              "2  0.044451  0.002864\n",
              "3 -0.011595  0.022692\n",
              "4 -0.036385 -0.031991"
            ]
          },
          "metadata": {
            "tags": []
          },
          "execution_count": 37
        }
      ]
    },
    {
      "cell_type": "code",
      "metadata": {
        "id": "P2niVXh1zzeV",
        "colab_type": "code",
        "colab": {}
      },
      "source": [
        ""
      ],
      "execution_count": 37,
      "outputs": []
    },
    {
      "cell_type": "code",
      "metadata": {
        "id": "THa9dzodyDzi",
        "colab_type": "code",
        "colab": {}
      },
      "source": [
        "X_train, X_test, y_train, y_test = train_test_split(dx, y, test_size=0.1)"
      ],
      "execution_count": 38,
      "outputs": []
    },
    {
      "cell_type": "code",
      "metadata": {
        "id": "Ya1ZYf15zfGb",
        "colab_type": "code",
        "colab": {}
      },
      "source": [
        "DTR = DecisionTreeRegressor(max_depth=5, random_state=0)"
      ],
      "execution_count": 39,
      "outputs": []
    },
    {
      "cell_type": "code",
      "metadata": {
        "id": "TAnYb_qxzgay",
        "colab_type": "code",
        "colab": {
          "base_uri": "https://localhost:8080/",
          "height": 119
        },
        "outputId": "ab039ed8-9656-4e3e-a2a2-813814de13f2"
      },
      "source": [
        "DTR.fit(X_train, y_train)"
      ],
      "execution_count": 40,
      "outputs": [
        {
          "output_type": "execute_result",
          "data": {
            "text/plain": [
              "DecisionTreeRegressor(ccp_alpha=0.0, criterion='mse', max_depth=5,\n",
              "                      max_features=None, max_leaf_nodes=None,\n",
              "                      min_impurity_decrease=0.0, min_impurity_split=None,\n",
              "                      min_samples_leaf=1, min_samples_split=2,\n",
              "                      min_weight_fraction_leaf=0.0, presort='deprecated',\n",
              "                      random_state=0, splitter='best')"
            ]
          },
          "metadata": {
            "tags": []
          },
          "execution_count": 40
        }
      ]
    },
    {
      "cell_type": "code",
      "metadata": {
        "id": "PXIlPgmPzi3O",
        "colab_type": "code",
        "colab": {}
      },
      "source": [
        "y_pred = DTR.predict(X_test)"
      ],
      "execution_count": 41,
      "outputs": []
    },
    {
      "cell_type": "code",
      "metadata": {
        "id": "VtN_QZ9ez5k6",
        "colab_type": "code",
        "colab": {
          "base_uri": "https://localhost:8080/",
          "height": 34
        },
        "outputId": "875927ba-7e30-4298-addc-bee1e5a5937a"
      },
      "source": [
        "print(mean_squared_error(y_test, y_pred))"
      ],
      "execution_count": 42,
      "outputs": [
        {
          "output_type": "stream",
          "text": [
            "3599.0783752904636\n"
          ],
          "name": "stdout"
        }
      ]
    },
    {
      "cell_type": "code",
      "metadata": {
        "id": "Z6HKiH8Rz7n0",
        "colab_type": "code",
        "colab": {
          "base_uri": "https://localhost:8080/",
          "height": 281
        },
        "outputId": "8fce8556-cc93-4182-e9ba-cc6b9ca13637"
      },
      "source": [
        "x = np.arange(y_test.shape[0])\n",
        "plt.title(\"Predict\")\n",
        "plt.scatter(x, y_test, c='red', label='y_test')\n",
        "plt.scatter(x, y_pred, c='blue',marker='x', label='y_pred')\n",
        "plt.legend()\n",
        "plt.show()"
      ],
      "execution_count": 43,
      "outputs": [
        {
          "output_type": "display_data",
          "data": {
            "image/png": "[encoded data removed]",
            "text/plain": [
              "<Figure size 432x288 with 1 Axes>"
            ]
          },
          "metadata": {
            "tags": [],
            "needs_background": "light"
          }
        }
      ]
    },
    {
      "cell_type": "code",
      "metadata": {
        "id": "tOLcqD0Uz9xk",
        "colab_type": "code",
        "colab": {}
      },
      "source": [
        ""
      ],
      "execution_count": 43,
      "outputs": []
    },
    {
      "cell_type": "markdown",
      "metadata": {
        "id": "1gZLubx5N953",
        "colab_type": "text"
      },
      "source": [
        "# TENTATIVA 3\n",
        "\n",
        "Analisar correçlação entre váriaveis e criar um novo modelo\n"
      ]
    },
    {
      "cell_type": "code",
      "metadata": {
        "id": "5NIDnJnCPs8W",
        "colab_type": "code",
        "colab": {}
      },
      "source": [
        "import seaborn as sns"
      ],
      "execution_count": 44,
      "outputs": []
    },
    {
      "cell_type": "code",
      "metadata": {
        "id": "z6VMJ42MPuh9",
        "colab_type": "code",
        "colab": {
          "base_uri": "https://localhost:8080/",
          "height": 286
        },
        "outputId": "5af4ab73-0895-4a2d-e761-6eaf7ba7f897"
      },
      "source": [
        "#na primeira execução a váriavel 6 apresentou fraca correlação, removi \n",
        "#na segunda execução as váriaveis 0,1,2,3 apresentaram fraca correlação, removi\n",
        "df = dfX.drop([0,1,2,3,6],axis=1)\n",
        "\n",
        "corr = df.corr()\n",
        "\n",
        "sns.heatmap(corr, \n",
        "         xticklabels=corr.columns, \n",
        "         yticklabels=corr.columns)"
      ],
      "execution_count": 80,
      "outputs": [
        {
          "output_type": "execute_result",
          "data": {
            "text/plain": [
              "<matplotlib.axes._subplots.AxesSubplot at 0x7f4896709f60>"
            ]
          },
          "metadata": {
            "tags": []
          },
          "execution_count": 80
        },
        {
          "output_type": "display_data",
          "data": {
            "image/png": "[encoded data removed]",
            "text/plain": [
              "<Figure size 432x288 with 2 Axes>"
            ]
          },
          "metadata": {
            "tags": [],
            "needs_background": "light"
          }
        }
      ]
    },
    {
      "cell_type": "markdown",
      "metadata": {
        "id": "mRtkRlS2apRI",
        "colab_type": "text"
      },
      "source": [
        "Gerando um novo modelo com padronização"
      ]
    },
    {
      "cell_type": "code",
      "metadata": {
        "id": "II1DQ1X3at51",
        "colab_type": "code",
        "colab": {}
      },
      "source": [
        "from sklearn.preprocessing import StandardScaler"
      ],
      "execution_count": 64,
      "outputs": []
    },
    {
      "cell_type": "code",
      "metadata": {
        "id": "yG3eutDca0ea",
        "colab_type": "code",
        "colab": {
          "base_uri": "https://localhost:8080/",
          "height": 136
        },
        "outputId": "0cf00593-5448-4b4e-bb1c-adefeb47c07d"
      },
      "source": [
        "ss = StandardScaler()\n",
        "ss.fit_transform(df)\n",
        "#dfy = StandardScaler(y)"
      ],
      "execution_count": 81,
      "outputs": [
        {
          "output_type": "execute_result",
          "data": {
            "text/plain": [
              "array([[-0.92974581, -0.73206462, -0.05449919,  0.41855058, -0.37098854],\n",
              "       [-0.17762425, -0.40288615, -0.83030083, -1.43655059, -1.93847913],\n",
              "       [-0.95867356, -0.71889748, -0.05449919,  0.06020733, -0.54515416],\n",
              "       ...,\n",
              "       [-0.78510705, -0.29096547, -0.23293356, -0.98558469,  0.32567395],\n",
              "       [ 0.34307529,  0.32130649,  0.55838411,  0.93615545, -0.54515416],\n",
              "       [ 1.76053515,  0.58464926, -0.83030083, -0.08871747,  0.06442552]])"
            ]
          },
          "metadata": {
            "tags": []
          },
          "execution_count": 81
        }
      ]
    },
    {
      "cell_type": "code",
      "metadata": {
        "id": "eBo1IzAwQqDu",
        "colab_type": "code",
        "colab": {
          "base_uri": "https://localhost:8080/",
          "height": 34
        },
        "outputId": "a654bbb5-af7d-425d-f748-58d4d90dbeee"
      },
      "source": [
        "X_train, X_test, y_train, y_test = train_test_split(df, y, test_size=0.1)\n",
        "DTR = DecisionTreeRegressor(max_depth=5, random_state=0, min_samples_split=150)\n",
        "\n",
        "DTR.fit(X_train, y_train)\n",
        "y_pred = DTR.predict(X_test)\n",
        "print(mean_squared_error(y_test, y_pred))"
      ],
      "execution_count": 82,
      "outputs": [
        {
          "output_type": "stream",
          "text": [
            "4789.324021953044\n"
          ],
          "name": "stdout"
        }
      ]
    },
    {
      "cell_type": "code",
      "metadata": {
        "id": "ln0iEjCXZ8W9",
        "colab_type": "code",
        "colab": {
          "base_uri": "https://localhost:8080/",
          "height": 281
        },
        "outputId": "ad7adaa8-78b5-4533-89c3-10f25ae65e5b"
      },
      "source": [
        "plot(y_test, y_pred)"
      ],
      "execution_count": 83,
      "outputs": [
        {
          "output_type": "display_data",
          "data": {
            "image/png": "[encoded data removed]",
            "text/plain": [
              "<Figure size 432x288 with 1 Axes>"
            ]
          },
          "metadata": {
            "tags": [],
            "needs_background": "light"
          }
        }
      ]
    },
    {
      "cell_type": "markdown",
      "metadata": {
        "id": "2NEoMg6Kgl_V",
        "colab_type": "text"
      },
      "source": [
        "# Tentativa 4"
      ]
    },
    {
      "cell_type": "code",
      "metadata": {
        "id": "PRsFXqnBaGPK",
        "colab_type": "code",
        "colab": {}
      },
      "source": [
        "ddX, ddy = datasets.load_diabetes(return_X_y=True)"
      ],
      "execution_count": 119,
      "outputs": []
    },
    {
      "cell_type": "code",
      "metadata": {
        "id": "RV7M3mhGpcuf",
        "colab_type": "code",
        "colab": {}
      },
      "source": [
        "databets = datasets.load_diabetes()"
      ],
      "execution_count": 287,
      "outputs": []
    },
    {
      "cell_type": "code",
      "metadata": {
        "id": "jMm-JFeRpwA6",
        "colab_type": "code",
        "colab": {
          "base_uri": "https://localhost:8080/",
          "height": 683
        },
        "outputId": "98837938-11de-4778-d943-bd011fbcb7f3"
      },
      "source": [
        "print(diabetes_data.DESCR)"
      ],
      "execution_count": 127,
      "outputs": [
        {
          "output_type": "stream",
          "text": [
            ".. _diabetes_dataset:\n",
            "\n",
            "Diabetes dataset\n",
            "----------------\n",
            "\n",
            "Ten baseline variables, age, sex, body mass index, average blood\n",
            "pressure, and six blood serum measurements were obtained for each of n =\n",
            "442 diabetes patients, as well as the response of interest, a\n",
            "quantitative measure of disease progression one year after baseline.\n",
            "\n",
            "**Data Set Characteristics:**\n",
            "\n",
            "  :Number of Instances: 442\n",
            "\n",
            "  :Number of Attributes: First 10 columns are numeric predictive values\n",
            "\n",
            "  :Target: Column 11 is a quantitative measure of disease progression one year after baseline\n",
            "\n",
            "  :Attribute Information:\n",
            "      - Age\n",
            "      - Sex\n",
            "      - Body mass index\n",
            "      - Average blood pressure\n",
            "      - S1\n",
            "      - S2\n",
            "      - S3\n",
            "      - S4\n",
            "      - S5\n",
            "      - S6\n",
            "\n",
            "Note: Each of these 10 feature variables have been mean centered and scaled by the standard deviation times `n_samples` (i.e. the sum of squares of each column totals 1).\n",
            "\n",
            "Source URL:\n",
            "https://www4.stat.ncsu.edu/~boos/var.select/diabetes.html\n",
            "\n",
            "For more information see:\n",
            "Bradley Efron, Trevor Hastie, Iain Johnstone and Robert Tibshirani (2004) \"Least Angle Regression,\" Annals of Statistics (with discussion), 407-499.\n",
            "(https://web.stanford.edu/~hastie/Papers/LARS/LeastAngle_2002.pdf)\n"
          ],
          "name": "stdout"
        }
      ]
    },
    {
      "cell_type": "code",
      "metadata": {
        "id": "cy34HHMBpTXR",
        "colab_type": "code",
        "colab": {}
      },
      "source": [
        "diX = pd.DataFrame(ddX)\n",
        "diX.columns = diabetes_data.feature_names"
      ],
      "execution_count": 240,
      "outputs": []
    },
    {
      "cell_type": "code",
      "metadata": {
        "id": "dojqzRYwfQA1",
        "colab_type": "code",
        "colab": {
          "base_uri": "https://localhost:8080/",
          "height": 224
        },
        "outputId": "9186f019-6ffd-467c-aa06-c60f94989520"
      },
      "source": [
        "diX.head()"
      ],
      "execution_count": 204,
      "outputs": [
        {
          "output_type": "execute_result",
          "data": {
            "text/html": [
              "<div>\n",
              "<style scoped>\n",
              "    .dataframe tbody tr th:only-of-type {\n",
              "        vertical-align: middle;\n",
              "    }\n",
              "\n",
              "    .dataframe tbody tr th {\n",
              "        vertical-align: top;\n",
              "    }\n",
              "\n",
              "    .dataframe thead th {\n",
              "        text-align: right;\n",
              "    }\n",
              "</style>\n",
              "<table border=\"1\" class=\"dataframe\">\n",
              "  <thead>\n",
              "    <tr style=\"text-align: right;\">\n",
              "      <th></th>\n",
              "      <th>age</th>\n",
              "      <th>sex</th>\n",
              "      <th>bmi</th>\n",
              "      <th>bp</th>\n",
              "      <th>s1</th>\n",
              "      <th>s2</th>\n",
              "      <th>s3</th>\n",
              "      <th>s4</th>\n",
              "      <th>s5</th>\n",
              "      <th>s6</th>\n",
              "    </tr>\n",
              "  </thead>\n",
              "  <tbody>\n",
              "    <tr>\n",
              "      <th>0</th>\n",
              "      <td>0.038076</td>\n",
              "      <td>0.050680</td>\n",
              "      <td>0.061696</td>\n",
              "      <td>0.021872</td>\n",
              "      <td>-0.044223</td>\n",
              "      <td>-0.034821</td>\n",
              "      <td>-0.043401</td>\n",
              "      <td>-0.002592</td>\n",
              "      <td>0.019908</td>\n",
              "      <td>-0.017646</td>\n",
              "    </tr>\n",
              "    <tr>\n",
              "      <th>1</th>\n",
              "      <td>-0.001882</td>\n",
              "      <td>-0.044642</td>\n",
              "      <td>-0.051474</td>\n",
              "      <td>-0.026328</td>\n",
              "      <td>-0.008449</td>\n",
              "      <td>-0.019163</td>\n",
              "      <td>0.074412</td>\n",
              "      <td>-0.039493</td>\n",
              "      <td>-0.068330</td>\n",
              "      <td>-0.092204</td>\n",
              "    </tr>\n",
              "    <tr>\n",
              "      <th>2</th>\n",
              "      <td>0.085299</td>\n",
              "      <td>0.050680</td>\n",
              "      <td>0.044451</td>\n",
              "      <td>-0.005671</td>\n",
              "      <td>-0.045599</td>\n",
              "      <td>-0.034194</td>\n",
              "      <td>-0.032356</td>\n",
              "      <td>-0.002592</td>\n",
              "      <td>0.002864</td>\n",
              "      <td>-0.025930</td>\n",
              "    </tr>\n",
              "    <tr>\n",
              "      <th>3</th>\n",
              "      <td>-0.089063</td>\n",
              "      <td>-0.044642</td>\n",
              "      <td>-0.011595</td>\n",
              "      <td>-0.036656</td>\n",
              "      <td>0.012191</td>\n",
              "      <td>0.024991</td>\n",
              "      <td>-0.036038</td>\n",
              "      <td>0.034309</td>\n",
              "      <td>0.022692</td>\n",
              "      <td>-0.009362</td>\n",
              "    </tr>\n",
              "    <tr>\n",
              "      <th>4</th>\n",
              "      <td>0.005383</td>\n",
              "      <td>-0.044642</td>\n",
              "      <td>-0.036385</td>\n",
              "      <td>0.021872</td>\n",
              "      <td>0.003935</td>\n",
              "      <td>0.015596</td>\n",
              "      <td>0.008142</td>\n",
              "      <td>-0.002592</td>\n",
              "      <td>-0.031991</td>\n",
              "      <td>-0.046641</td>\n",
              "    </tr>\n",
              "  </tbody>\n",
              "</table>\n",
              "</div>"
            ],
            "text/plain": [
              "        age       sex       bmi  ...        s4        s5        s6\n",
              "0  0.038076  0.050680  0.061696  ... -0.002592  0.019908 -0.017646\n",
              "1 -0.001882 -0.044642 -0.051474  ... -0.039493 -0.068330 -0.092204\n",
              "2  0.085299  0.050680  0.044451  ... -0.002592  0.002864 -0.025930\n",
              "3 -0.089063 -0.044642 -0.011595  ...  0.034309  0.022692 -0.009362\n",
              "4  0.005383 -0.044642 -0.036385  ... -0.002592 -0.031991 -0.046641\n",
              "\n",
              "[5 rows x 10 columns]"
            ]
          },
          "metadata": {
            "tags": []
          },
          "execution_count": 204
        }
      ]
    },
    {
      "cell_type": "code",
      "metadata": {
        "id": "z2cfEAsSv6Qg",
        "colab_type": "code",
        "colab": {
          "base_uri": "https://localhost:8080/",
          "height": 285
        },
        "outputId": "393f7b2f-9e96-45d2-ac10-c385eba2f75e"
      },
      "source": [
        "%matplotlib inline\n",
        "sns.set(style=\"whitegrid\")  \n",
        "sns.boxplot(data=diX, )"
      ],
      "execution_count": 252,
      "outputs": [
        {
          "output_type": "execute_result",
          "data": {
            "text/plain": [
              "<matplotlib.axes._subplots.AxesSubplot at 0x7f488e93e320>"
            ]
          },
          "metadata": {
            "tags": []
          },
          "execution_count": 252
        },
        {
          "output_type": "display_data",
          "data": {
            "image/png": "[encoded data removed]",
            "text/plain": [
              "<Figure size 432x288 with 1 Axes>"
            ]
          },
          "metadata": {
            "tags": []
          }
        }
      ]
    },
    {
      "cell_type": "markdown",
      "metadata": {
        "id": "PLF6T5ZmxNVY",
        "colab_type": "text"
      },
      "source": [
        "bmi, s1, s2, s3, s4 e s6 possuem, aparentemente, muitos outliers"
      ]
    },
    {
      "cell_type": "code",
      "metadata": {
        "id": "Z9ttjjeQyPXv",
        "colab_type": "code",
        "colab": {
          "base_uri": "https://localhost:8080/",
          "height": 187
        },
        "outputId": "f324c50e-13f6-4650-d3c1-e35d62a17cd0"
      },
      "source": [
        "Q1 = diX.quantile(0.25)\n",
        "Q3 = diX.quantile(0.75)\n",
        "IQR = Q3 - Q1\n",
        "print(IQR)"
      ],
      "execution_count": 274,
      "outputs": [
        {
          "output_type": "stream",
          "text": [
            "age    0.075375\n",
            "bmi    0.065477\n",
            "bp     0.072300\n",
            "s1     0.062606\n",
            "s2     0.060203\n",
            "s3     0.064429\n",
            "s4     0.073802\n",
            "s5     0.065682\n",
            "s6     0.061096\n",
            "dtype: float64\n"
          ],
          "name": "stdout"
        }
      ]
    },
    {
      "cell_type": "code",
      "metadata": {
        "id": "T_y-Pfbe0Tnh",
        "colab_type": "code",
        "colab": {}
      },
      "source": [
        "from scipy import stats\n",
        "z = np.abs(stats.zscore(databets.data))\n",
        "#print(z)\n",
        "dfo = databets.data[(z < 3).all(axis=1)]\n",
        "\n",
        "#(diX < (Q1 - 1.5 * IQR)) |(diX > (Q3 + 1.5 * IQR))"
      ],
      "execution_count": 290,
      "outputs": []
    },
    {
      "cell_type": "code",
      "metadata": {
        "id": "Mw74t8K61Sd9",
        "colab_type": "code",
        "colab": {
          "base_uri": "https://localhost:8080/",
          "height": 34
        },
        "outputId": "4cf7a213-f7d3-4b95-eca4-39d3c00d7fab"
      },
      "source": [
        "diX.shape"
      ],
      "execution_count": 285,
      "outputs": [
        {
          "output_type": "execute_result",
          "data": {
            "text/plain": [
              "(442, 9)"
            ]
          },
          "metadata": {
            "tags": []
          },
          "execution_count": 285
        }
      ]
    },
    {
      "cell_type": "code",
      "metadata": {
        "id": "UgH_Mnr71QSn",
        "colab_type": "code",
        "colab": {
          "base_uri": "https://localhost:8080/",
          "height": 34
        },
        "outputId": "0e7d6e3b-8367-4940-8d0e-fa58fc5ead38"
      },
      "source": [
        "dfo.shape"
      ],
      "execution_count": 292,
      "outputs": [
        {
          "output_type": "execute_result",
          "data": {
            "text/plain": [
              "(430, 10)"
            ]
          },
          "metadata": {
            "tags": []
          },
          "execution_count": 292
        }
      ]
    },
    {
      "cell_type": "code",
      "metadata": {
        "id": "0H51-pHf1-kH",
        "colab_type": "code",
        "colab": {}
      },
      "source": [
        "dfoy = dfo[:,-1] #TARGET\n",
        "dfo = dfo[:,:-1] #FEATURES"
      ],
      "execution_count": 297,
      "outputs": []
    },
    {
      "cell_type": "code",
      "metadata": {
        "id": "sjotLdTV2L0N",
        "colab_type": "code",
        "colab": {
          "base_uri": "https://localhost:8080/",
          "height": 34
        },
        "outputId": "8c6f59b2-faa9-4f9c-aa42-48e79dcdb036"
      },
      "source": [
        "dfoy.shape"
      ],
      "execution_count": 298,
      "outputs": [
        {
          "output_type": "execute_result",
          "data": {
            "text/plain": [
              "(430,)"
            ]
          },
          "metadata": {
            "tags": []
          },
          "execution_count": 298
        }
      ]
    },
    {
      "cell_type": "code",
      "metadata": {
        "id": "rrk5Mk_m2N5w",
        "colab_type": "code",
        "colab": {
          "base_uri": "https://localhost:8080/",
          "height": 34
        },
        "outputId": "2930be6c-f7e2-4206-fe5f-2b4d6dd0ec19"
      },
      "source": [
        "dfo.shape"
      ],
      "execution_count": 299,
      "outputs": [
        {
          "output_type": "execute_result",
          "data": {
            "text/plain": [
              "(430, 9)"
            ]
          },
          "metadata": {
            "tags": []
          },
          "execution_count": 299
        }
      ]
    },
    {
      "cell_type": "markdown",
      "metadata": {
        "id": "0QFSYdP-1U8-",
        "colab_type": "text"
      },
      "source": [
        "12 outliers foram removidos"
      ]
    },
    {
      "cell_type": "code",
      "metadata": {
        "id": "a_R7S1ITfS0i",
        "colab_type": "code",
        "colab": {}
      },
      "source": [
        "diy = pd.DataFrame(ddy)"
      ],
      "execution_count": 103,
      "outputs": []
    },
    {
      "cell_type": "code",
      "metadata": {
        "id": "W5K8HIXYk87T",
        "colab_type": "code",
        "colab": {
          "base_uri": "https://localhost:8080/",
          "height": 34
        },
        "outputId": "0fca5f44-eefb-4e96-f421-bb8fe5e6a869"
      },
      "source": [
        "diy.shape"
      ],
      "execution_count": 105,
      "outputs": [
        {
          "output_type": "execute_result",
          "data": {
            "text/plain": [
              "(442, 1)"
            ]
          },
          "metadata": {
            "tags": []
          },
          "execution_count": 105
        }
      ]
    },
    {
      "cell_type": "code",
      "metadata": {
        "id": "iEkicJ_HlH8Y",
        "colab_type": "code",
        "colab": {
          "base_uri": "https://localhost:8080/",
          "height": 306
        },
        "outputId": "81dc5590-86e4-4aeb-eb6e-a8f03366ae21"
      },
      "source": [
        "diX.info()"
      ],
      "execution_count": 108,
      "outputs": [
        {
          "output_type": "stream",
          "text": [
            "<class 'pandas.core.frame.DataFrame'>\n",
            "RangeIndex: 442 entries, 0 to 441\n",
            "Data columns (total 10 columns):\n",
            " #   Column  Non-Null Count  Dtype  \n",
            "---  ------  --------------  -----  \n",
            " 0   age     442 non-null    float64\n",
            " 1   sex     442 non-null    float64\n",
            " 2   bmi     442 non-null    float64\n",
            " 3   bp      442 non-null    float64\n",
            " 4   s1      442 non-null    float64\n",
            " 5   s2      442 non-null    float64\n",
            " 6   s3      442 non-null    float64\n",
            " 7   s4      442 non-null    float64\n",
            " 8   s5      442 non-null    float64\n",
            " 9   s6      442 non-null    float64\n",
            "dtypes: float64(10)\n",
            "memory usage: 34.7 KB\n"
          ],
          "name": "stdout"
        }
      ]
    },
    {
      "cell_type": "code",
      "metadata": {
        "id": "0pfF0bkUleOA",
        "colab_type": "code",
        "colab": {
          "base_uri": "https://localhost:8080/",
          "height": 204
        },
        "outputId": "b7d84197-81e0-4a33-d45d-53d29343674a"
      },
      "source": [
        "#Quantidade de registros com valores 'setado'\n",
        "diX.notna().sum()"
      ],
      "execution_count": 113,
      "outputs": [
        {
          "output_type": "execute_result",
          "data": {
            "text/plain": [
              "age    442\n",
              "sex    442\n",
              "bmi    442\n",
              "bp     442\n",
              "s1     442\n",
              "s2     442\n",
              "s3     442\n",
              "s4     442\n",
              "s5     442\n",
              "s6     442\n",
              "dtype: int64"
            ]
          },
          "metadata": {
            "tags": []
          },
          "execution_count": 113
        }
      ]
    },
    {
      "cell_type": "code",
      "metadata": {
        "id": "EyKH9stMlj2g",
        "colab_type": "code",
        "colab": {
          "base_uri": "https://localhost:8080/",
          "height": 204
        },
        "outputId": "8a73305a-7137-4204-8941-be878d66dea2"
      },
      "source": [
        "#Quantidade de registros cque não são nulos\n",
        "diX.notnull().sum()"
      ],
      "execution_count": 114,
      "outputs": [
        {
          "output_type": "execute_result",
          "data": {
            "text/plain": [
              "age    442\n",
              "sex    442\n",
              "bmi    442\n",
              "bp     442\n",
              "s1     442\n",
              "s2     442\n",
              "s3     442\n",
              "s4     442\n",
              "s5     442\n",
              "s6     442\n",
              "dtype: int64"
            ]
          },
          "metadata": {
            "tags": []
          },
          "execution_count": 114
        }
      ]
    },
    {
      "cell_type": "code",
      "metadata": {
        "id": "5XXlgqNmoz4A",
        "colab_type": "code",
        "colab": {
          "base_uri": "https://localhost:8080/",
          "height": 286
        },
        "outputId": "6544f6ee-fcef-4020-ef47-37d26c8bc8f2"
      },
      "source": [
        "corr = diX.corr()\n",
        "\n",
        "sns.heatmap(corr, \n",
        "         xticklabels=corr.columns, \n",
        "         yticklabels=corr.columns)"
      ],
      "execution_count": 206,
      "outputs": [
        {
          "output_type": "execute_result",
          "data": {
            "text/plain": [
              "<matplotlib.axes._subplots.AxesSubplot at 0x7f48943eaf60>"
            ]
          },
          "metadata": {
            "tags": []
          },
          "execution_count": 206
        },
        {
          "output_type": "display_data",
          "data": {
            "image/png": "[encoded data removed]",
            "text/plain": [
              "<Figure size 432x288 with 2 Axes>"
            ]
          },
          "metadata": {
            "tags": [],
            "needs_background": "light"
          }
        }
      ]
    },
    {
      "cell_type": "code",
      "metadata": {
        "id": "wDLjMd52olcg",
        "colab_type": "code",
        "colab": {}
      },
      "source": [
        "diX.drop(['sex'],inplace=True, axis=1,)\n",
        "#diX.drop(['age'],inplace=True, axis=1,)"
      ],
      "execution_count": 242,
      "outputs": []
    },
    {
      "cell_type": "code",
      "metadata": {
        "id": "cntchT-zlzWI",
        "colab_type": "code",
        "colab": {
          "base_uri": "https://localhost:8080/",
          "height": 34
        },
        "outputId": "5579ff79-1dba-4e3e-e1bc-b48a54f5ab9f"
      },
      "source": [
        "X_train, X_test, y_train, y_test = train_test_split(dfo, dfoy, test_size=0.1)\n",
        "DTR = DecisionTreeRegressor(max_depth=5, random_state=0,\n",
        "                            min_samples_split=50,max_features='auto',)\n",
        "\n",
        "DTR.fit(X_train, y_train,)\n",
        "y_pred = DTR.predict(X_test)\n",
        "print(mean_squared_error(y_test, y_pred))"
      ],
      "execution_count": 300,
      "outputs": [
        {
          "output_type": "stream",
          "text": [
            "0.002189032387818679\n"
          ],
          "name": "stdout"
        }
      ]
    },
    {
      "cell_type": "code",
      "metadata": {
        "id": "I8OUrRo-qV7X",
        "colab_type": "code",
        "colab": {
          "base_uri": "https://localhost:8080/",
          "height": 51
        },
        "outputId": "9dc3963e-e626-40fb-b952-a51599d1c551"
      },
      "source": [
        "DTR.feature_importances_"
      ],
      "execution_count": 301,
      "outputs": [
        {
          "output_type": "execute_result",
          "data": {
            "text/plain": [
              "array([0.04839284, 0.        , 0.18968053, 0.16574103, 0.        ,\n",
              "       0.06828867, 0.07261554, 0.        , 0.45528138])"
            ]
          },
          "metadata": {
            "tags": []
          },
          "execution_count": 301
        }
      ]
    },
    {
      "cell_type": "code",
      "metadata": {
        "id": "gaUpDNRSq08X",
        "colab_type": "code",
        "colab": {
          "base_uri": "https://localhost:8080/",
          "height": 71
        },
        "outputId": "40c9c4ff-2563-466f-af27-3e4994cb0986"
      },
      "source": [
        "from sklearn.externals import joblib"
      ],
      "execution_count": 161,
      "outputs": [
        {
          "output_type": "stream",
          "text": [
            "/usr/local/lib/python3.6/dist-packages/sklearn/externals/joblib/__init__.py:15: FutureWarning: sklearn.externals.joblib is deprecated in 0.21 and will be removed in 0.23. Please import this functionality directly from joblib, which can be installed with: pip install joblib. If this warning is raised when loading pickled models, you may need to re-serialize those models with scikit-learn 0.21+.\n",
            "  warnings.warn(msg, category=FutureWarning)\n"
          ],
          "name": "stderr"
        }
      ]
    },
    {
      "cell_type": "code",
      "metadata": {
        "id": "-Mt2p--HslkI",
        "colab_type": "code",
        "colab": {
          "base_uri": "https://localhost:8080/",
          "height": 34
        },
        "outputId": "6a6d2749-66ae-4d22-96cf-0cf4716e3790"
      },
      "source": [
        "#salvando melhor arvore\n",
        "joblib.dump(DTR,'arvore_sem_outliers.xz')"
      ],
      "execution_count": 305,
      "outputs": [
        {
          "output_type": "execute_result",
          "data": {
            "text/plain": [
              "['arvore_sem_outliers.xz']"
            ]
          },
          "metadata": {
            "tags": []
          },
          "execution_count": 305
        }
      ]
    },
    {
      "cell_type": "code",
      "metadata": {
        "id": "_bhJ7QuHuWkh",
        "colab_type": "code",
        "colab": {}
      },
      "source": [
        "tree = joblib.load('arvore.xz')"
      ],
      "execution_count": 182,
      "outputs": []
    },
    {
      "cell_type": "code",
      "metadata": {
        "id": "Pp_HLLeQuZWM",
        "colab_type": "code",
        "colab": {}
      },
      "source": [
        "y_pred = tree.predict(X_test)"
      ],
      "execution_count": 183,
      "outputs": []
    },
    {
      "cell_type": "code",
      "metadata": {
        "id": "IBzy9Bx5ud6G",
        "colab_type": "code",
        "colab": {
          "base_uri": "https://localhost:8080/",
          "height": 34
        },
        "outputId": "d0e31313-ab3b-4a2c-f0e4-09ed097f23f7"
      },
      "source": [
        "print(mean_squared_error(y_test, y_pred))"
      ],
      "execution_count": 303,
      "outputs": [
        {
          "output_type": "stream",
          "text": [
            "0.002189032387818679\n"
          ],
          "name": "stdout"
        }
      ]
    },
    {
      "cell_type": "code",
      "metadata": {
        "id": "Ywc83KgCufU-",
        "colab_type": "code",
        "colab": {
          "base_uri": "https://localhost:8080/",
          "height": 284
        },
        "outputId": "5ce38ecf-df2b-432f-d80f-0c09e3d85356"
      },
      "source": [
        "plot(y_test, y_pred)"
      ],
      "execution_count": 302,
      "outputs": [
        {
          "output_type": "display_data",
          "data": {
            "image/png": "[encoded data removed]",
            "text/plain": [
              "<Figure size 432x288 with 1 Axes>"
            ]
          },
          "metadata": {
            "tags": []
          }
        }
      ]
    },
    {
      "cell_type": "code",
      "metadata": {
        "id": "leCG6SvDukEm",
        "colab_type": "code",
        "colab": {}
      },
      "source": [
        ""
      ],
      "execution_count": null,
      "outputs": []
    }
  ]
}